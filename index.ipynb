{
  "cells": [
    {
      "cell_type": "code",
      "metadata": {},
      "source": [
        "#hide\n",
        "from nbdev import *\n",
        "#from your_lib.core import *"
      ],
      "outputs": [],
      "execution_count": null
    },
    {
      "cell_type": "markdown",
      "metadata": {},
      "source": [
        " # czLandscapingTk (Chan Zuckerberg Landscaping Toolkit)\n",
        "\n",
        "> This library is a public-facing implementation of a library of components designed to support and facilitate 'scientific knowledge landscaping' within the Chan Zuckerberg Initiative's Science Program. "
      ]
    },
    {
      "cell_type": "markdown",
      "metadata": {},
      "source": [
        " ## Install"
      ]
    },
    {
      "cell_type": "markdown",
      "metadata": {},
      "source": [
        " `pip install git+https://github.com/GullyBurns/czLandscapingTk.git`"
      ]
    },
    {
      "cell_type": "markdown",
      "metadata": {},
      "source": [
        " ## How to use"
      ]
    },
    {
      "cell_type": "markdown",
      "metadata": {},
      "source": [
        " \n",
        "\n",
        "Instantiate the class using an api key you should obtain from the S2AG team to permit more than 100 request calls per 5 minutes. This script will burn through that limit immediately. Obtain API keys here: https://www.semanticscholar.org/product/api#Partner-Form\n",
        "\n",
        "```\n",
        "kolsGraph = KOLsOnS2AG('<API-KEY-FROM-S2AG-TEAM>')\n",
        "```\n",
        "\n",
        "Maybe start by searching for a reseracher by name. e.g. [Daphne Koller](https://api.semanticscholar.org/graph/v1/author/search?query=Daphne+Koller) \n",
        "\n",
        "```\n",
        "kolsGraph.search_for_disambiguated_author('Daphne Koller')\n",
        "```\n",
        "\n",
        "Generating the following output: \n",
        "<table border=\"1\" class=\"dataframe\">  <thead>    <tr style=\"text-align: right;\"><th></th>      <th>authorId</th>      <th>name</th>      <th>paperCount</th>      <th>hIndex</th>      <th>Top 10 Pubs</th>    </tr>  </thead>  <tbody>    <tr>      <th>0</th>      <td>1736370</td>      <td>D. Koller</td>      <td>351</td>      <td>130</td>      <td>Probabilistic Graphical Models - Principles and Techniques     |     The Genotype-Tissue Expression (GTEx) project     |     FastSLAM: a factored solution to the simultaneous localization and mapping problem     |     Support Vector Machine Active Learning with Applications to Text Classification     |     Max-Margin Markov Networks     |     SCAPE: shape completion and animation of people     |     Self-Paced Learning for Latent Variable Models     |     The Genotype-Tissue Expression (GTEx) pilot analysis: Multitissue gene regulation in humans     |     Decomposing a scene into geometric and semantically consistent regions     |     Toward Optimal Feature Selection</td>    </tr>    <tr>      <th>1</th>      <td>2081968396</td>      <td>D. Koller</td>      <td>5</td>      <td>1</td>      <td>Systematic Analysis of Breast Cancer Morphology Uncovers Stromal Features Associated with Survival     |     [Relevance of health geographic research for dermatology].     |     Convolutional neural networks of H&amp;E-stained biopsy images accurately quantify histologic features of non-alcoholic steatohepatitis     |     IDENTIFYING GENETIC DRIVERS OF CANCER MORPHOLOGY     |     Features Associated with Survival Systematic Analysis of Breast Cancer Morphology Uncovers Stromal</td>    </tr>    <tr>      <th>2</th>      <td>50678963</td>      <td>D. Koller</td>      <td>1</td>      <td>0</td>      <td>\u00bd\u00ba \u00c4\u00e4\u00e4\u00f6\u00f2\u00f2\u00f2\u00f2 \u00c8\u00f6\u00f3\u00f3\u00f3\u00f3\u00f3\u00f0\u00f0\u00d7\u00f8\u00f8 \u00ca\u00ea\u00f0\u00f0\u00f8\u00f8\u00f3\u00f2\u00f2\u00f0 \u00c5\u00f3\u00f0\u00d7</td>    </tr>    <tr>      <th>3</th>      <td>2049948919</td>      <td>Daphne Koller</td>      <td>1</td>      <td>1</td>      <td>Team-Maxmin Equilibria\u2606</td>    </tr>    <tr>      <th>4</th>      <td>2081968988</td>      <td>Daphne Koller</td>      <td>1</td>      <td>0</td>      <td>\u00cd\u00d7\u00d7\u00f2\u00f2 \u00d8\u00f9\u00f6\u00f6 \u00c0\u00e0\u00e0\u00f6\u00f6\u00f6 Blockin\u00d7 \u00d2 \u00dd\u00d7\u00d7\u00d7\u00f2 Aeae\u00f8\u00fb\u00f3\u00f6\u00f6 \u00c4\u00e4\u00e4\u00f6\u00f2\u00f2\u00f2\u00f2\u00b4\u00b4\u00fc\u00f8\u00f8\u00f2\u00f2\u00f2\u00f2 \u00d7\u00f8\u00f6\u00f6 Blockin\u00f8\u00b5</td>    </tr>    <tr>      <th>5</th>      <td>2081968959</td>      <td>Daphne Koller</td>      <td>3</td>      <td>1</td>      <td>Abstract 1883: Large scale viability screening with PRISM underscores non-inhibitory properties of small molecules     |     Strategic and Tactical Decision-Making Under Uncertainty     |     2 . 1 Pursuit / Evader in the UAV / UGV domain</td>    </tr>    <tr>      <th>6</th>      <td>1753668669</td>      <td>Daphne Koller</td>      <td>4</td>      <td>1</td>      <td>A Data-Driven Lens to Understand Human Biology: An Interview with Daphne Koller     |     Conservation and divergence in modules of the transcriptional programs of the human and mouse immune systems [preprint]     |     ImmGen at 15     |     Speaker-specific terms and resources</td>    </tr>    <tr>      <th>7</th>      <td>46193831</td>      <td>D. Stanford</td>      <td>3</td>      <td>0</td>      <td>Unmanned Aircraft Systems     |     Inference : Exploiting Local Structure     |     Learning : Parameter Estimation</td>    </tr>  </tbody></table>\n",
        "\n",
        "Then generate an author+paper graph based on her ID:`1736370` \n",
        "\n",
        "```\n",
        "kolsGraph.build_author_citation_graph(1736370)\n",
        "kolsGraph.print_basic_stats()\n",
        "```\n",
        "\n",
        "This command performs the following steps: \n",
        "\n",
        "* Retrieve all her papers indexed in S2AG add those papers and all authors to the graph\n",
        "* Iterate through those papers and add any papers that either she cites 'meaninfully' or that cite her 'meaningfully' (for a definition of what constitutes a 'meaningful' citation, see [Valenzuela et al 2015](https://ai2-website.s3.amazonaws.com/publications/ValenzuelaHaMeaningfulCitations.pdf)). \n",
        "* Add or link authors to these papers. \n",
        "* Iterate over all papers in this extended set and add all citations / references between them.\n",
        "* Print out the results\n",
        "\n",
        "Generating the following output: "
      ]
    }
  ],
  "metadata": {
    "anaconda-cloud": {},
    "kernelspec": {
      "display_name": "Python 3",
      "language": "python",
      "name": "python3"
    },
    "language_info": {
      "codemirror_mode": {
        "name": "ipython",
        "version": 3
      },
      "file_extension": ".py",
      "mimetype": "text/x-python",
      "name": "python",
      "nbconvert_exporter": "python",
      "pygments_lexer": "ipython3",
      "version": "3.6.1"
    }
  },
  "nbformat": 4,
  "nbformat_minor": 1
}